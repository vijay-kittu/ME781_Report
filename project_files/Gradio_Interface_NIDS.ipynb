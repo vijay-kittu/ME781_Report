{
 "cells": [
  {
   "cell_type": "code",
   "execution_count": 10,
   "id": "1ef0ef56",
   "metadata": {},
   "outputs": [],
   "source": [
    "column_names = [\n",
    "    \"duration\", \"protocol_type\", \"service\", \"flag\", \"src_bytes\", \"dst_bytes\",\n",
    "    \"land\", \"wrong_fragment\", \"urgent\", \"hot\", \"num_failed_logins\", \"logged_in\",\n",
    "    \"num_compromised\", \"root_shell\", \"su_attempted\", \"num_root\", \"num_file_creations\",\n",
    "    \"num_shells\", \"num_access_files\", \"num_outbound_cmds\", \"is_host_login\",\n",
    "    \"is_guest_login\", \"count\", \"srv_count\", \"serror_rate\", \"srv_serror_rate\",\n",
    "    \"rerror_rate\", \"srv_rerror_rate\", \"same_srv_rate\", \"diff_srv_rate\",\n",
    "    \"srv_diff_host_rate\", \"dst_host_count\", \"dst_host_srv_count\",\n",
    "    \"dst_host_same_srv_rate\", \"dst_host_diff_srv_rate\",\n",
    "    \"dst_host_same_src_port_rate\", \"dst_host_srv_diff_host_rate\",\n",
    "    \"dst_host_serror_rate\", \"dst_host_srv_serror_rate\",\n",
    "    \"dst_host_rerror_rate\", \"dst_host_srv_rerror_rate\",\n",
    "    \"target\"]"
   ]
  },
  {
   "cell_type": "code",
   "execution_count": 13,
   "id": "da45dc9a",
   "metadata": {},
   "outputs": [
    {
     "name": "stdout",
     "output_type": "stream",
     "text": [
      "Running on local URL:  http://127.0.0.1:7868\n",
      "\n",
      "To create a public link, set `share=True` in `launch()`.\n"
     ]
    },
    {
     "data": {
      "text/html": [
       "<div><iframe src=\"http://127.0.0.1:7868/\" width=\"100%\" height=\"500\" allow=\"autoplay; camera; microphone; clipboard-read; clipboard-write;\" frameborder=\"0\" allowfullscreen></iframe></div>"
      ],
      "text/plain": [
       "<IPython.core.display.HTML object>"
      ]
     },
     "metadata": {},
     "output_type": "display_data"
    },
    {
     "data": {
      "text/plain": []
     },
     "execution_count": 13,
     "metadata": {},
     "output_type": "execute_result"
    }
   ],
   "source": [
    "import gradio as gr\n",
    "import pandas as pd\n",
    "from tensorflow.keras.models import load_model\n",
    "from sklearn.preprocessing import LabelEncoder, StandardScaler\n",
    "import numpy as np\n",
    "\n",
    "# Load the saved model\n",
    "loaded_model = load_model('C:/Users/PRATHAM/Downloads/NIDS.h5')\n",
    "scaler = StandardScaler()\n",
    "label_encoder = LabelEncoder()\n",
    "\n",
    "def preprocess(file):\n",
    "  data = pd.read_csv(file,compression='gzip', names=column_names)\n",
    "  attacks_types = {\n",
    "    'normal.': 'normal', 'back.': 'dos', 'buffer_overflow.': 'u2r', 'ftp_write.': 'r2l', 'guess_passwd.': 'r2l',\n",
    "    'imap.': 'r2l', 'ipsweep.': 'probe', 'land.': 'dos', 'loadmodule.': 'u2r', 'multihop.': 'r2l', 'neptune.': 'dos',\n",
    "    'nmap.': 'probe', 'perl.': 'u2r', 'phf.': 'r2l', 'pod.': 'dos', 'portsweep.': 'probe', 'rootkit.': 'u2r', 'satan.': 'probe',\n",
    "    'smurf.': 'dos', 'spy.': 'r2l', 'teardrop.': 'dos', 'warezclient.': 'r2l', 'warezmaster.': 'r2l'}\n",
    "  data['Attack Type'] = data.target.apply(lambda r:attacks_types[r])\n",
    "  categorical_indices = [1, 2, 3]\n",
    "  for col_index in categorical_indices:\n",
    "    data.iloc[:, col_index] = label_encoder.fit_transform(data.iloc[:, col_index])\n",
    "  \n",
    "  data = data.drop(['target', 'Attack Type'], axis=1)\n",
    "  data = data.iloc[:,:].values\n",
    "  print(data)\n",
    "  return data\n",
    "# Define the prediction function\n",
    "def predict_csv(file):\n",
    "    # Preprocess the data if needed (adjust this based on your preprocessing steps)\n",
    "    data = preprocess(file)\n",
    "    numerical_indices = [0, 4, 5, 6, 7, 8, 9, 10, 11, 12, 13, 14, 15, 16, 17, 18, 19, 20, 21, 22, 23,\n",
    "                     24, 25, 26, 27, 28, 29, 30, 31, 32, 33, 34, 35, 36, 37, 38, 39, 40]\n",
    "    categorical_indices = [1, 2, 3]\n",
    "\n",
    "    numeric = data[:, numerical_indices]\n",
    "    categorical = data[:, categorical_indices]\n",
    "    numeric = scaler.fit_transform(numeric)\n",
    "    print(numeric.shape)\n",
    "    print(categorical.shape)\n",
    "    predictions = loaded_model.predict([numeric]+[data[:, index] for index in categorical_indices])\n",
    "    predicted_labels = np.argmax(predictions, axis=1)\n",
    "\n",
    "    # Creating a dictionary to map indices to categories\n",
    "    index_to_category = {\n",
    "        0: 'normal',\n",
    "        1: 'dos',\n",
    "        2: 'u2r',\n",
    "        3: 'r2l',\n",
    "        4: 'other'\n",
    "    }\n",
    "\n",
    "    # Mapping indices to categories using the dictionary\n",
    "    predicted_categories = np.vectorize(index_to_category.get)(predicted_labels)\n",
    "    return f\"Network Intrusion Detected, Attack Type: {predicted_categories}\"\n",
    "\n",
    "\n",
    "# Defining the Gradio interface\n",
    "iface = gr.Interface(\n",
    "    fn=predict_csv,\n",
    "    inputs=\"file\",\n",
    "    outputs=\"text\",\n",
    "    live=True,\n",
    "    title=\"Network Intrusion Detection System\",\n",
    "    description=\"Upload a CSV file, and the model will detect whether there is any network intrusion or not and the type of attack.\",\n",
    ")\n",
    "\n",
    "# Launching the Gradio interface\n",
    "iface.launch()"
   ]
  },
  {
   "cell_type": "code",
   "execution_count": null,
   "id": "dc4a21c7",
   "metadata": {},
   "outputs": [],
   "source": []
  },
  {
   "cell_type": "code",
   "execution_count": null,
   "id": "5b509ce3",
   "metadata": {},
   "outputs": [],
   "source": []
  }
 ],
 "metadata": {
  "kernelspec": {
   "display_name": "Python 3 (ipykernel)",
   "language": "python",
   "name": "python3"
  },
  "language_info": {
   "codemirror_mode": {
    "name": "ipython",
    "version": 3
   },
   "file_extension": ".py",
   "mimetype": "text/x-python",
   "name": "python",
   "nbconvert_exporter": "python",
   "pygments_lexer": "ipython3",
   "version": "3.10.9"
  }
 },
 "nbformat": 4,
 "nbformat_minor": 5
}
